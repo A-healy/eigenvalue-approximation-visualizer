{
 "cells": [
  {
   "cell_type": "markdown",
   "metadata": {},
   "source": [
    "# Welcome to the Eigenvalue Approximation Visualizer!\n",
    "\n",
    "Description\n",
    "\n",
    "## Prologue\n",
    "\n",
    "Just run this once (click the cell and press the play button on the top bar or hit shift-enter) to import the matrix functions needed for this visualizer."
   ]
  },
  {
   "cell_type": "code",
   "execution_count": null,
   "metadata": {},
   "outputs": [],
   "source": [
    "import matplotlib.pyplot as plt\n",
    "import numpy as np\n",
    "from numpy.linalg import eig"
   ]
  },
  {
   "cell_type": "markdown",
   "metadata": {},
   "source": [
    "## Step 1: Input Matrix Size\n",
    "\n",
    "Please run the cell below to input the size of the square matrix you would like to see the properties of. For example, to enter a 2x2 matrix, just enter \"2\" in the input prompt after running the cell."
   ]
  },
  {
   "cell_type": "code",
   "execution_count": null,
   "metadata": {},
   "outputs": [],
   "source": [
    "# Get dimensions of matrix from user.\n",
    "matrix_size = int(input(\"Please enter the height of your square matrix: \"))"
   ]
  },
  {
   "cell_type": "markdown",
   "metadata": {},
   "source": [
    "## Step 2: Input Matrix Values\n",
    "\n",
    "Run the cell below to begin inputting each of the values in your matrix. The cell will prompt you for the value in position (1, 1), or the top left, first. Once you enter that value, it will prompt you for the value in position (1, 2) and so on until you reach position (n, n).\n",
    "\n",
    "When entering values, either enter a real number, such as \"12\" or a complex number with \"j\" as the complex unit, such as \"1+2j\" or \"5.3+2.5j\"."
   ]
  },
  {
   "cell_type": "code",
   "execution_count": null,
   "metadata": {},
   "outputs": [],
   "source": [
    "# Prompt for user input for each value of the matrix.\n",
    "matrix_values = []\n",
    "for i in range(0, matrix_size):\n",
    "    matrix_values.append([])\n",
    "    for j in range(0, matrix_size):\n",
    "        currentVal = input(\"Enter the value at position (\" + str(i+1) + \", \" + str(j+1) + \"): \")\n",
    "        currentVal = currentVal.replace(\" \", \"\")\n",
    "        matrix_values[i].append(complex(currentVal))\n",
    "        \n",
    "matrix = np.array(matrix_values)\n",
    "print()\n",
    "print(\"You have created the following matrix:\")\n",
    "print(matrix)"
   ]
  },
  {
   "cell_type": "markdown",
   "metadata": {},
   "source": [
    "## Step 3: Approximating the Eigenvalues of Your Matrix\n",
    "\n",
    "Gershgorin Circles can be used to approximate the eigenvalues of a matrix.\n",
    "\n",
    "For an n x n matrix, the Gershgorin circles are the set of circles:\n",
    "\n",
    "$R_{i} = \\{ z \\in \\mathbb{C}; |z - a_{ii}| \\leq \\Sigma_{j=1, j\\neq i}^{n} |a_{ij}|\\}$\n",
    "\n",
    "Equivalently, they are the circles which have center $a_{ii}$ and radius $\\Sigma_{j=1, j\\neq i}^{n} |a_{ij}|$.\n",
    "\n",
    "The eigenvalues of the matrix are contained within the union of these circles.\n",
    "\n",
    "Additionally, the union of any $k$ of the circles that do not intersect the remaining $(n-k)$ circles contains precisely $k$ of the eigenvalues.\n",
    "\n",
    "Run the cell below to calculate and display the the Gershgorin Circles of your matrix."
   ]
  },
  {
   "cell_type": "code",
   "execution_count": null,
   "metadata": {},
   "outputs": [],
   "source": [
    "fig, ax = plt.subplots()\n",
    "\n",
    "radii = []\n",
    "x_vals = []\n",
    "y_vals = []\n",
    "\n",
    "# Find Gershgorin Circles\n",
    "for i in range(matrix_size):\n",
    "    x, y = matrix[i,i].real, matrix[i,i].imag\n",
    "    radius = sum(abs(matrix[i,:])) - abs(matrix[i,i])\n",
    "    \n",
    "    radii.append(radius)\n",
    "    x_vals.append(x)\n",
    "    y_vals.append(y)\n",
    "    \n",
    "    ax.add_artist( plt.Circle((x, y), radius, alpha=0.5) )\n",
    "    \n",
    "# Find bounds of circles to scale plot\n",
    "min_x = min(x_vals) - max(radii)\n",
    "min_y = min(y_vals) - max(radii)\n",
    "max_x = max(x_vals) + max(radii)\n",
    "max_y = max(y_vals) + max(radii)\n",
    "\n",
    "\n",
    "# Chart and axes titles\n",
    "ax.axis([min_x, max_x, min_y, max_y])\n",
    "ax.set_aspect(1)    \n",
    "plt.xlabel(\"$x$\")\n",
    "plt.ylabel(\"$y$\")\n",
    "plt.title(\"Gershgorin Circles $x + iy$\")\n",
    "ax.axhline(y=0, color='k')\n",
    "ax.axvline(x=0, color='k')\n",
    "plt.grid()"
   ]
  },
  {
   "cell_type": "markdown",
   "metadata": {},
   "source": [
    "## Step 4: Find Actual Eigenvalues\n",
    "\n",
    "Run the cell below to calculate the actual eigenvalues of your matrix. The cell will then display the eigenvalues on the same graph as the one above."
   ]
  },
  {
   "cell_type": "code",
   "execution_count": null,
   "metadata": {},
   "outputs": [],
   "source": [
    "fig, ax = plt.subplots()\n",
    "\n",
    "eigvals = np.linalg.eigvals(matrix)\n",
    "\n",
    "# Plot Gershgorin Circles and Eigenvalues\n",
    "for i in range(matrix_size):\n",
    "    ax.add_artist( plt.Circle((x_vals[i], y_vals[i]), radii[i], alpha=0.5) )\n",
    "    plt.plot(eigvals[i].real, eigvals[i].imag, 'k*')\n",
    "\n",
    "# Chart and axes titles\n",
    "ax.axis([min_x, max_x, min_y, max_y])\n",
    "ax.set_aspect(1)    \n",
    "plt.xlabel(\"$x$\")\n",
    "plt.ylabel(\"$y$\")\n",
    "plt.title(\"Gershgorin Circles and Eigenvalues $x + iy$\")\n",
    "ax.axhline(y=0, color='k')\n",
    "ax.axvline(x=0, color='k')\n",
    "plt.grid()"
   ]
  },
  {
   "cell_type": "markdown",
   "metadata": {},
   "source": [
    "## Step 5: View Other Matrix Properties\n",
    "\n",
    "Run the cell below to view some other properties of your matrix, such as the spectral radius."
   ]
  },
  {
   "cell_type": "code",
   "execution_count": null,
   "metadata": {},
   "outputs": [],
   "source": [
    "print(\"Spectral Radius: \")\n",
    "print(max(eigvals))\n",
    "\n"
   ]
  },
  {
   "cell_type": "code",
   "execution_count": null,
   "metadata": {},
   "outputs": [],
   "source": []
  }
 ],
 "metadata": {
  "kernelspec": {
   "display_name": "Python 3",
   "language": "python",
   "name": "python3"
  },
  "language_info": {
   "codemirror_mode": {
    "name": "ipython",
    "version": 3
   },
   "file_extension": ".py",
   "mimetype": "text/x-python",
   "name": "python",
   "nbconvert_exporter": "python",
   "pygments_lexer": "ipython3",
   "version": "3.7.0"
  }
 },
 "nbformat": 4,
 "nbformat_minor": 2
}
